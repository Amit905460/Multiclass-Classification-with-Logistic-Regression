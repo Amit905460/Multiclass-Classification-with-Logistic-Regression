{
 "cells": [
  {
   "cell_type": "code",
   "execution_count": null,
   "id": "58a1b7c6-c610-466a-b8fb-4bf4c6ccad55",
   "metadata": {},
   "outputs": [],
   "source": [
    "import pandas as pd\n",
    "import seaborn as sns\n",
    "import numpy as np\n",
    "from sklearn.model_selection import train_test_split\n",
    "from sklearn.metrics import confusion_matrix,precision_score,f1_score,recall_score,r2_score,mean_absolute_error,mean_squared_error,accuracy_score\n",
    "from sklearn.linear_model import LinearRegression,LogisticRegression\n",
    "from sklearn.pipeline import Pipeline\n",
    "from sklearn.metrics import classification_report\n",
    "\n",
    "d = sns.load_dataset(\"iris\")\n",
    "d[\"species\"] = d[\"species\"].replace({\"setosa\": 0, \"versicolor\": 1, \"virginica\": 2})\n",
    "x = d.iloc[:,0:4]\n",
    "y = d.iloc[:,-1]\n",
    "x_train,x_test,y_train,y_test = train_test_split(x,y,test_size=0.2,random_state=2)\n",
    "import warnings\n",
    "warnings.filterwarnings(\"ignore\")\n",
    "log = LogisticRegression(max_iter=100,multi_class=\"multinomial\")\n",
    "log.fit(x_train,y_train)\n",
    "y_pred3 = log.predict(x_test)\n",
    "\n",
    "print(\"co matrix is :\",confusion_matrix(y_test,y_pred3))\n",
    "print(\"accuracy is :\",accuracy_score(y_test,y_pred3))\n",
    "print(\"classification report is :\",classification_report(y_test, y_pred3))"
   ]
  },
  {
   "cell_type": "code",
   "execution_count": null,
   "id": "f369a739-9678-4223-bb49-a271daac9e5b",
   "metadata": {},
   "outputs": [],
   "source": []
  }
 ],
 "metadata": {
  "kernelspec": {
   "display_name": "Python 3 (ipykernel)",
   "language": "python",
   "name": "python3"
  },
  "language_info": {
   "codemirror_mode": {
    "name": "ipython",
    "version": 3
   },
   "file_extension": ".py",
   "mimetype": "text/x-python",
   "name": "python",
   "nbconvert_exporter": "python",
   "pygments_lexer": "ipython3",
   "version": "3.12.7"
  }
 },
 "nbformat": 4,
 "nbformat_minor": 5
}
